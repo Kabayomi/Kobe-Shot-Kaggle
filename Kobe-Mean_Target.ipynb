{
 "cells": [
  {
   "cell_type": "markdown",
   "metadata": {},
   "source": [
    "## Load Data"
   ]
  },
  {
   "cell_type": "code",
   "execution_count": 2,
   "metadata": {},
   "outputs": [],
   "source": [
    "## Initiate Analysis by loading dataset and spliting\n",
    "\n",
    "import numpy as np\n",
    "import pandas as pd\n",
    "import seaborn as sns\n",
    "sns.set()\n",
    "import matplotlib\n",
    "from matplotlib import pyplot as plt\n",
    "from sklearn import preprocessing\n",
    "\n",
    "import warnings\n",
    "warnings.simplefilter('ignore')"
   ]
  },
  {
   "cell_type": "code",
   "execution_count": 13,
   "metadata": {},
   "outputs": [],
   "source": [
    "data = pd.read_csv(\"data.csv\")"
   ]
  },
  {
   "cell_type": "code",
   "execution_count": 14,
   "metadata": {},
   "outputs": [],
   "source": [
    "#split into test and train\n",
    "test = data[pd.isnull(data['shot_made_flag'])] \n",
    "data2 = data.copy()\n",
    "data.dropna(axis=0, how='any',inplace=True)"
   ]
  },
  {
   "cell_type": "markdown",
   "metadata": {},
   "source": [
    "## Prepare Dataset"
   ]
  },
  {
   "cell_type": "code",
   "execution_count": 15,
   "metadata": {},
   "outputs": [],
   "source": [
    "data.drop('team_id', axis=1, inplace=True) # same number\n",
    "data.drop('shot_id', axis=1, inplace=True) # same number\n",
    "data.drop('game_id', axis=1, inplace=True) # just some number with no effect to ds, like id\n",
    "data.drop('game_event_id', axis=1, inplace=True) # sth like id\n",
    "data.drop('team_name', axis=1, inplace=True) # Always LA Lakers\n"
   ]
  },
  {
   "cell_type": "code",
   "execution_count": 16,
   "metadata": {},
   "outputs": [],
   "source": [
    "data['time_remaining'] = data['minutes_remaining'] * 60 + data['seconds_remaining']\n",
    "#combine minutes and seconds into time in seconds"
   ]
  },
  {
   "cell_type": "code",
   "execution_count": 17,
   "metadata": {},
   "outputs": [],
   "source": [
    "data.drop(['minutes_remaining', 'seconds_remaining', 'matchup'], axis=1, inplace=True) # converted\n"
   ]
  },
  {
   "cell_type": "markdown",
   "metadata": {},
   "source": [
    "## Exploratory Analysis"
   ]
  },
  {
   "cell_type": "code",
   "execution_count": 18,
   "metadata": {},
   "outputs": [],
   "source": [
    "data.drop(['lat', 'lon', 'game_date','loc_x','loc_y'], axis=1, inplace=True)"
   ]
  },
  {
   "cell_type": "code",
   "execution_count": 19,
   "metadata": {},
   "outputs": [],
   "source": [
    "cumsum = data.groupby('season')['shot_made_flag'].cumsum() - data['shot_made_flag']\n",
    "cumcnt = data.groupby('season').cumcount()\n",
    "data['season'] = cumsum/cumcnt\n",
    "data['season'].fillna(0, inplace = True)"
   ]
  },
  {
   "cell_type": "code",
   "execution_count": 20,
   "metadata": {},
   "outputs": [],
   "source": [
    "cumsum = data.groupby('shot_zone_area')['shot_made_flag'].cumsum() - data['shot_made_flag']\n",
    "cumcnt = data.groupby('shot_zone_area').cumcount()\n",
    "data['shot_zone_area'] = cumsum/cumcnt\n",
    "data['shot_zone_area'].fillna(0, inplace = True)"
   ]
  },
  {
   "cell_type": "code",
   "execution_count": 21,
   "metadata": {},
   "outputs": [],
   "source": [
    "cumsum = data.groupby('shot_zone_range')['shot_made_flag'].cumsum() - data['shot_made_flag']\n",
    "cumcnt = data.groupby('shot_zone_range').cumcount()\n",
    "data['shot_zone_range'] = cumsum/cumcnt\n",
    "data['shot_zone_range'].fillna(0, inplace = True)"
   ]
  },
  {
   "cell_type": "code",
   "execution_count": 22,
   "metadata": {},
   "outputs": [],
   "source": [
    "cumsum = data.groupby('combined_shot_type')['shot_made_flag'].cumsum() - data['shot_made_flag']\n",
    "cumcnt = data.groupby('combined_shot_type').cumcount()\n",
    "data['combined_shot_type'] = cumsum/cumcnt\n",
    "data['combined_shot_type'].fillna(0, inplace = True)"
   ]
  },
  {
   "cell_type": "code",
   "execution_count": 23,
   "metadata": {},
   "outputs": [],
   "source": [
    "cumsum = data.groupby('shot_type')['shot_made_flag'].cumsum() - data['shot_made_flag']\n",
    "cumcnt = data.groupby('shot_type').cumcount()\n",
    "data['shot_type'] = cumsum/cumcnt\n",
    "data['shot_type'].fillna(0, inplace = True)"
   ]
  },
  {
   "cell_type": "code",
   "execution_count": 24,
   "metadata": {},
   "outputs": [],
   "source": [
    "cumsum = data.groupby('shot_zone_basic')['shot_made_flag'].cumsum() - data['shot_made_flag']\n",
    "cumcnt = data.groupby('shot_zone_basic').cumcount()\n",
    "data['shot_zone_basic'] = cumsum/cumcnt\n",
    "data['shot_zone_basic'].fillna(0, inplace = True)"
   ]
  },
  {
   "cell_type": "code",
   "execution_count": 25,
   "metadata": {},
   "outputs": [],
   "source": [
    "cumsum = data.groupby('action_type')['shot_made_flag'].cumsum() - data['shot_made_flag']\n",
    "cumcnt = data.groupby('action_type').cumcount()\n",
    "data['action_type'] = cumsum/cumcnt\n",
    "data['action_type'].fillna(0, inplace = True)"
   ]
  },
  {
   "cell_type": "code",
   "execution_count": 26,
   "metadata": {},
   "outputs": [],
   "source": [
    "cumsum = data.groupby('opponent')['shot_made_flag'].cumsum() - data['shot_made_flag']\n",
    "cumcnt = data.groupby('opponent').cumcount()\n",
    "data['opponent'] = cumsum/cumcnt\n",
    "data['opponent'].fillna(0, inplace = True)"
   ]
  },
  {
   "cell_type": "code",
   "execution_count": 27,
   "metadata": {},
   "outputs": [],
   "source": [
    "cumsum = data.groupby('time_remaining')['shot_made_flag'].cumsum() - data['shot_made_flag']\n",
    "cumcnt = data.groupby('time_remaining').cumcount()\n",
    "data['time_remaining'] = cumsum/cumcnt\n",
    "data['time_remaining'].fillna(0, inplace = True)"
   ]
  },
  {
   "cell_type": "code",
   "execution_count": 28,
   "metadata": {},
   "outputs": [],
   "source": [
    "cumsum = data.groupby('period')['shot_made_flag'].cumsum() - data['shot_made_flag']\n",
    "cumcnt = data.groupby('period').cumcount()\n",
    "data['period'] = cumsum/cumcnt\n",
    "data['period'].fillna(0, inplace = True)"
   ]
  },
  {
   "cell_type": "code",
   "execution_count": 29,
   "metadata": {},
   "outputs": [],
   "source": [
    "cumsum = data.groupby('playoffs')['shot_made_flag'].cumsum() - data['shot_made_flag']\n",
    "cumcnt = data.groupby('playoffs').cumcount()\n",
    "data['playoffs'] = cumsum/cumcnt\n",
    "data['playoffs'].fillna(0, inplace = True)"
   ]
  },
  {
   "cell_type": "code",
   "execution_count": 30,
   "metadata": {},
   "outputs": [],
   "source": [
    "from sklearn.model_selection import cross_val_score, KFold\n",
    "from sklearn.linear_model import LogisticRegression, LogisticRegressionCV"
   ]
  },
  {
   "cell_type": "code",
   "execution_count": 34,
   "metadata": {},
   "outputs": [
    {
     "name": "stdout",
     "output_type": "stream",
     "text": [
      "The accuracy of the Logistic Regression is 0.6911564823903242\n"
     ]
    }
   ],
   "source": [
    "from sklearn.linear_model import LogisticRegressionCV\n",
    "LogisticRegressionCV(Cs=10)\n",
    "from sklearn.model_selection import train_test_split\n",
    "train_X,test_X, train_Y, test_Y = train_test_split(data.drop('shot_made_flag',axis=1), \n",
    "                                                    data['shot_made_flag'], test_size=0.30, \n",
    "                                                    random_state=101)\n",
    "from sklearn import metrics\n",
    "model = LogisticRegressionCV()\n",
    "model.fit(train_X,train_Y)\n",
    "prediction=model.predict(test_X)\n",
    "print('The accuracy of the Logistic Regression is',metrics.roc_auc_score(prediction,test_Y))"
   ]
  },
  {
   "cell_type": "code",
   "execution_count": 32,
   "metadata": {},
   "outputs": [],
   "source": [
    "X = data.drop('shot_made_flag',axis=1)\n",
    "y = data.shot_made_flag"
   ]
  },
  {
   "cell_type": "code",
   "execution_count": 35,
   "metadata": {},
   "outputs": [
    {
     "name": "stdout",
     "output_type": "stream",
     "text": [
      "KFold score: 0.677 ± 0.009\n"
     ]
    }
   ],
   "source": [
    "kfold = KFold(n_splits=5) # 5-fold CV\n",
    "cv = kfold.split(X, y) # show data & make the split\n",
    "\n",
    "clf = LogisticRegression()\n",
    "scores = cross_val_score(clf, X, y, scoring='roc_auc', cv=cv)\n",
    "print('KFold score: {0:.3f} ± {1:.3f}'.format(scores.mean(), scores.std()) )"
   ]
  },
  {
   "cell_type": "code",
   "execution_count": null,
   "metadata": {},
   "outputs": [],
   "source": []
  },
  {
   "cell_type": "code",
   "execution_count": null,
   "metadata": {},
   "outputs": [],
   "source": []
  },
  {
   "cell_type": "code",
   "execution_count": null,
   "metadata": {},
   "outputs": [],
   "source": []
  },
  {
   "cell_type": "code",
   "execution_count": null,
   "metadata": {},
   "outputs": [],
   "source": []
  },
  {
   "cell_type": "code",
   "execution_count": null,
   "metadata": {},
   "outputs": [],
   "source": []
  },
  {
   "cell_type": "code",
   "execution_count": null,
   "metadata": {},
   "outputs": [],
   "source": []
  }
 ],
 "metadata": {
  "kernelspec": {
   "display_name": "Python 3",
   "language": "python",
   "name": "python3"
  },
  "language_info": {
   "codemirror_mode": {
    "name": "ipython",
    "version": 3
   },
   "file_extension": ".py",
   "mimetype": "text/x-python",
   "name": "python",
   "nbconvert_exporter": "python",
   "pygments_lexer": "ipython3",
   "version": "3.7.0"
  }
 },
 "nbformat": 4,
 "nbformat_minor": 2
}
